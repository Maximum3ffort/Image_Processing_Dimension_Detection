{
 "cells": [
  {
   "cell_type": "code",
   "execution_count": 1,
   "id": "d62a5bfe",
   "metadata": {},
   "outputs": [],
   "source": [
    "#necessary packages\n",
    "# !pip install imutils\n",
    "import sys\n",
    "from scipy.spatial import distance as dist\n",
    "from imutils import perspective\n",
    "from imutils import contours\n",
    "import numpy as np\n",
    "import argparse\n",
    "import imutils\n",
    "import cv2"
   ]
  },
  {
   "cell_type": "code",
   "execution_count": 4,
   "id": "f665785e",
   "metadata": {},
   "outputs": [
    {
     "name": "stdout",
     "output_type": "stream",
     "text": [
      "Requirement already satisfied: imutils in c:\\programdata\\anaconda\\lib\\site-packages (0.5.4)Note: you may need to restart the kernel to use updated packages.\n",
      "\n"
     ]
    }
   ],
   "source": [
    "pip install --upgrade imutils"
   ]
  },
  {
   "cell_type": "code",
   "execution_count": 2,
   "id": "d0b00c7a",
   "metadata": {},
   "outputs": [],
   "source": [
    "def midpoint(ptA, ptB):\n",
    "    return ((ptA[0] + ptB[0])* 0.5, (ptA[1]+ ptB[1])*0.5)\n"
   ]
  },
  {
   "cell_type": "code",
   "execution_count": 3,
   "id": "a6df133a",
   "metadata": {},
   "outputs": [
    {
     "name": "stderr",
     "output_type": "stream",
     "text": [
      "usage: ipykernel_launcher.py [-h] -i IMAGE -w WIDTH\n",
      "ipykernel_launcher.py: error: the following arguments are required: -i/--image, -w/--width\n"
     ]
    },
    {
     "ename": "SystemExit",
     "evalue": "2",
     "output_type": "error",
     "traceback": [
      "An exception has occurred, use %tb to see the full traceback.\n",
      "\u001b[1;31mSystemExit\u001b[0m\u001b[1;31m:\u001b[0m 2\n"
     ]
    },
    {
     "name": "stderr",
     "output_type": "stream",
     "text": [
      "C:\\ProgramData\\Anaconda\\Lib\\site-packages\\IPython\\core\\interactiveshell.py:3534: UserWarning: To exit: use 'exit', 'quit', or Ctrl-D.\n",
      "  warn(\"To exit: use 'exit', 'quit', or Ctrl-D.\", stacklevel=1)\n"
     ]
    }
   ],
   "source": [
    "# construct the argument parse and parse the arguments\n",
    "ap = argparse.ArgumentParser()\n",
    "ap.add_argument(\"-i\", \"--image\", required=True,\n",
    "\thelp=\"path to the input image\")\n",
    "ap.add_argument(\"-w\", \"--width\", type=float, required=True,\n",
    "\thelp=\"width of the left-most object in the image (in inches)\")\n",
    "args = vars(ap.parse_args())"
   ]
  },
  {
   "cell_type": "code",
   "execution_count": 4,
   "id": "c5d524ca",
   "metadata": {},
   "outputs": [],
   "source": [
    "image_file=\"./coins.jpeg\"\n",
    "width_of_object= float(0.955)"
   ]
  },
  {
   "cell_type": "code",
   "execution_count": 8,
   "id": "51826b98",
   "metadata": {},
   "outputs": [
    {
     "data": {
      "text/plain": [
       "_StoreAction(option_strings=['-w', '--width_of_object'], dest='width_of_object', nargs=None, const=None, default=None, type=<class 'float'>, choices=None, required=True, help='width of the left-most object in the image (in inches)', metavar=None)"
      ]
     },
     "execution_count": 8,
     "metadata": {},
     "output_type": "execute_result"
    }
   ],
   "source": [
    "#construct the aargument parser and parse the arguments\n",
    "ap=argparse.ArgumentParser()\n",
    "ap.add_argument(\"-i\", \"--image_file\", required=True, help=\"path to imput image\")\n",
    "ap.add_argument(\"-w\", \"--width_of_object\", type=float, required=True, help=\"width of the left-most object in the image (in inches)\")\n",
    "# args = vars(ap.parse_args())"
   ]
  },
  {
   "cell_type": "code",
   "execution_count": 9,
   "id": "90fb7b06",
   "metadata": {},
   "outputs": [],
   "source": [
    "# load the image, convert it to grayscale, and blur it slightly\n",
    "image = cv2.imread(image_file)\n",
    "gray = cv2.cvtColor(image, cv2.COLOR_BGR2GRAY)\n",
    "gray = cv2.GaussianBlur(gray, (7, 7), 0)\n",
    "# perform edge detection, then perform a dilation + erosion to\n",
    "# close gaps in between object edges\n",
    "edged = cv2.Canny(gray, 50, 100)\n",
    "edged = cv2.dilate(edged, None, iterations=1)\n",
    "edged = cv2.erode(edged, None, iterations=1)\n",
    "# find contours in the edge map\n",
    "cnts = cv2.findContours(edged.copy(), cv2.RETR_EXTERNAL,\n",
    "\tcv2.CHAIN_APPROX_SIMPLE)\n",
    "cnts = imutils.grab_contours(cnts)\n",
    "# sort the contours from left-to-right and initialize the\n",
    "# 'pixels per metric' calibration variable\n",
    "(cnts, _) = contours.sort_contours(cnts)\n",
    "pixelsPerMetric = None"
   ]
  },
  {
   "cell_type": "code",
   "execution_count": 10,
   "id": "4533da5b",
   "metadata": {},
   "outputs": [],
   "source": [
    "for c in cnts:\n",
    "    if cv2.contourArea(c)<100:\n",
    "        continue\n",
    "    orig=image.copy()\n",
    "    box=cv2.minAreaRect(c)\n",
    "    box=cv2.cv.BoxPoints(box) if imutils.is_cv2() else cv2.boxPoints(box)\n",
    "    box=np.array(box, dtype=\"int\")\n",
    "    box=perspective.order_points(box)\n",
    "    cv2.drawContours(orig, [box.astype(\"int\")], -1,(0, 255, 0), 2)\n",
    "    for (x, y) in box:\n",
    "        cv2.circle(orig, (int(x), int(y)), 5, (0, 0, 255), -1)\n",
    "    (tl, tr, br, bl) = box\n",
    "    (tltrX, tltrY) = midpoint(tl, tr)\n",
    "    (blbrX, blbrY) = midpoint(bl, br)\n",
    "    (tlblX, tlblY) = midpoint(tl, bl)\n",
    "    (trbrX, trbrY) = midpoint(tr, br)\n",
    "    cv2.circle(orig, (int(tltrX), int(tltrY)), 5, (255, 0, 0), -1)\n",
    "    cv2.circle(orig, (int(blbrX), int(blbrY)), 5, (255, 0, 0), -1)\n",
    "    cv2.circle(orig, (int(tlblX), int(tlblY)), 5, (255, 0, 0), -1)\n",
    "    cv2.circle(orig, (int(trbrX), int(trbrY)), 5, (255, 0, 0), -1)\n",
    "    cv2.line(orig, (int(tltrX), int(tltrY)), (int(blbrX), int(blbrY)),\n",
    "    (255, 0, 255), 2)\n",
    "    cv2.line(orig, (int(tlblX), int(tlblY)), (int(trbrX), int(trbrY)),\n",
    "    (255, 0, 255), 2)"
   ]
  },
  {
   "cell_type": "code",
   "execution_count": 7,
   "id": "7060d031",
   "metadata": {},
   "outputs": [
    {
     "data": {
      "text/plain": [
       "array([[[57, 51, 28],\n",
       "        [57, 51, 28],\n",
       "        [56, 50, 27],\n",
       "        ...,\n",
       "        [11, 13, 13],\n",
       "        [11, 13, 13],\n",
       "        [11, 13, 13]],\n",
       "\n",
       "       [[56, 49, 29],\n",
       "        [56, 49, 29],\n",
       "        [55, 48, 28],\n",
       "        ...,\n",
       "        [ 9, 11, 11],\n",
       "        [ 9, 11, 11],\n",
       "        [ 9, 11, 11]],\n",
       "\n",
       "       [[55, 48, 28],\n",
       "        [55, 48, 28],\n",
       "        [55, 48, 28],\n",
       "        ...,\n",
       "        [ 9,  9,  9],\n",
       "        [ 9,  9,  9],\n",
       "        [ 9,  9,  9]],\n",
       "\n",
       "       ...,\n",
       "\n",
       "       [[28, 41, 67],\n",
       "        [28, 41, 67],\n",
       "        [27, 40, 66],\n",
       "        ...,\n",
       "        [ 9, 10, 14],\n",
       "        [ 9, 10, 14],\n",
       "        [ 9, 10, 14]],\n",
       "\n",
       "       [[28, 41, 67],\n",
       "        [27, 40, 66],\n",
       "        [27, 40, 66],\n",
       "        ...,\n",
       "        [ 9, 10, 14],\n",
       "        [ 9, 10, 14],\n",
       "        [ 9, 10, 14]],\n",
       "\n",
       "       [[27, 40, 66],\n",
       "        [27, 40, 66],\n",
       "        [26, 39, 65],\n",
       "        ...,\n",
       "        [ 9, 10, 14],\n",
       "        [ 9, 10, 14],\n",
       "        [ 9, 10, 14]]], dtype=uint8)"
      ]
     },
     "execution_count": 7,
     "metadata": {},
     "output_type": "execute_result"
    }
   ],
   "source": [
    "    # unpack the ordered bounding box, then compute the midpoint\n",
    "    # between the top-left and top-right coordinates, followed by\n",
    "    # the midpoint between bottom-left and bottom-right coordinates\n",
    "    (tl, tr, br, bl) = box\n",
    "    (tltrX, tltrY) = midpoint(tl, tr)\n",
    "    (blbrX, blbrY) = midpoint(bl, br)\n",
    "    # compute the midpoint between the top-left and top-right points,\n",
    "    # followed by the midpoint between the top-righ and bottom-right\n",
    "    (tlblX, tlblY) = midpoint(tl, bl)\n",
    "    (trbrX, trbrY) = midpoint(tr, br)\n",
    "    # draw the midpoints on the image\n",
    "    cv2.circle(orig, (int(tltrX), int(tltrY)), 5, (255, 0, 0), -1)\n",
    "    cv2.circle(orig, (int(blbrX), int(blbrY)), 5, (255, 0, 0), -1)\n",
    "    cv2.circle(orig, (int(tlblX), int(tlblY)), 5, (255, 0, 0), -1)\n",
    "    cv2.circle(orig, (int(trbrX), int(trbrY)), 5, (255, 0, 0), -1)\n",
    "    # draw lines between the midpoints\n",
    "    cv2.line(orig, (int(tltrX), int(tltrY)), (int(blbrX), int(blbrY)),\n",
    "        (255, 0, 255), 2)\n",
    "    cv2.line(orig, (int(tlblX), int(tlblY)), (int(trbrX), int(trbrY)),\n",
    "        (255, 0, 255), 2)"
   ]
  },
  {
   "cell_type": "code",
   "execution_count": 11,
   "id": "40146630",
   "metadata": {},
   "outputs": [],
   "source": [
    "    # compute the Euclidean distance between the midpoints\n",
    "    dA = dist.euclidean((tltrX, tltrY), (blbrX, blbrY))\n",
    "    dB = dist.euclidean((tlblX, tlblY), (trbrX, trbrY))\n",
    "    # if the pixels per metric has not been initialized, then\n",
    "    # compute it as the ratio of pixels to supplied metric\n",
    "    # (in this case, inches)\n",
    "    if pixelsPerMetric is None:\n",
    "        pixelsPerMetric = dB / width_of_object"
   ]
  },
  {
   "cell_type": "code",
   "execution_count": 12,
   "id": "5877a6bc",
   "metadata": {},
   "outputs": [
    {
     "data": {
      "text/plain": [
       "-1"
      ]
     },
     "execution_count": 12,
     "metadata": {},
     "output_type": "execute_result"
    }
   ],
   "source": [
    "    # compute the size of the object\n",
    "    dimA = dA / pixelsPerMetric\n",
    "    dimB = dB / pixelsPerMetric\n",
    "    # draw the object sizes on the image\n",
    "    cv2.putText(orig, \"{:.1f}in\".format(dimA),\n",
    "        (int(tltrX - 15), int(tltrY - 10)), cv2.FONT_HERSHEY_SIMPLEX,\n",
    "        0.65, (255, 255, 255), 2)\n",
    "    cv2.putText(orig, \"{:.1f}in\".format(dimB),\n",
    "        (int(trbrX + 10), int(trbrY)), cv2.FONT_HERSHEY_SIMPLEX,\n",
    "        0.65, (255, 255, 255), 2)\n",
    "    # show the output image\n",
    "    cv2.imshow(\"Image\", orig)\n",
    "    cv2.waitKey(0)"
   ]
  },
  {
   "cell_type": "code",
   "execution_count": null,
   "id": "209fff4e",
   "metadata": {},
   "outputs": [],
   "source": []
  }
 ],
 "metadata": {
  "kernelspec": {
   "display_name": "Python 3 (ipykernel)",
   "language": "python",
   "name": "python3"
  },
  "language_info": {
   "codemirror_mode": {
    "name": "ipython",
    "version": 3
   },
   "file_extension": ".py",
   "mimetype": "text/x-python",
   "name": "python",
   "nbconvert_exporter": "python",
   "pygments_lexer": "ipython3",
   "version": "3.11.5"
  }
 },
 "nbformat": 4,
 "nbformat_minor": 5
}
